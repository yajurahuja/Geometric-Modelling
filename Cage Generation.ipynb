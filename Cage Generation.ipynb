{
 "cells": [
  {
   "cell_type": "code",
   "execution_count": 9,
   "id": "64f689c3",
   "metadata": {},
   "outputs": [],
   "source": [
    "import numpy as np\n",
    "import igl\n",
    "import meshplot as mp\n",
    "from scipy.spatial.transform import Rotation\n",
    "import ipywidgets as iw"
   ]
  },
  {
   "cell_type": "code",
   "execution_count": 25,
   "id": "3800042d",
   "metadata": {},
   "outputs": [],
   "source": [
    "v, f = igl.read_triangle_mesh('data/woody-hi.off')\n",
    "segments_recording = np.zeros(len(v), dtype=int)\n",
    "v[:, 2] = 0.0"
   ]
  },
  {
   "cell_type": "code",
   "execution_count": 26,
   "id": "a7d956be",
   "metadata": {},
   "outputs": [],
   "source": [
    "with np.load('data/octa_sphere_5.npz') as npl:\n",
    "    v_s, f_s = npl['v'], npl['f']"
   ]
  },
  {
   "cell_type": "code",
   "execution_count": 27,
   "id": "7f1c74de",
   "metadata": {},
   "outputs": [],
   "source": [
    "v -= v.min(axis=0)\n",
    "v /= v.max()"
   ]
  },
  {
   "cell_type": "code",
   "execution_count": 28,
   "id": "243bf655",
   "metadata": {},
   "outputs": [
    {
     "data": {
      "application/vnd.jupyter.widget-view+json": {
       "model_id": "6970e84ac6de4da6b8b9b24ba39d4ec2",
       "version_major": 2,
       "version_minor": 0
      },
      "text/plain": [
       "Renderer(camera=PerspectiveCamera(children=(DirectionalLight(color='white', intensity=0.6, position=(0.4306930…"
      ]
     },
     "metadata": {},
     "output_type": "display_data"
    },
    {
     "data": {
      "application/vnd.jupyter.widget-view+json": {
       "model_id": "6e93d8a0e1804699bfb6f3062589bee8",
       "version_major": 2,
       "version_minor": 0
      },
      "text/plain": [
       "HBox(children=(Button(description='Add Point', style=ButtonStyle()), Button(description='Clear!', style=Button…"
      ]
     },
     "metadata": {},
     "output_type": "display_data"
    },
    {
     "data": {
      "application/vnd.jupyter.widget-view+json": {
       "model_id": "6b3a580b20c34937920691da4823370c",
       "version_major": 2,
       "version_minor": 0
      },
      "text/plain": [
       "interactive(children=(FloatSlider(value=0.0, description='x', max=1.15, min=-0.1, step=0.05), FloatSlider(valu…"
      ]
     },
     "metadata": {},
     "output_type": "display_data"
    },
    {
     "data": {
      "text/plain": [
       "<function __main__.sf(x, y)>"
      ]
     },
     "execution_count": 28,
     "metadata": {},
     "output_type": "execute_result"
    }
   ],
   "source": [
    "button = iw.Button(description=\"Add Point\")\n",
    "undo_button = iw.Button(description=\"Clear!\")\n",
    "cage_points = []\n",
    "\n",
    "points_id = -1\n",
    "def paint_clicked(b):\n",
    "    global points_id \n",
    "    #print(points_id)\n",
    "    if points_id != -1:\n",
    "        paint_ui.remove_object(points_id)\n",
    "    cage_points.append(sf.coord)\n",
    "    points_id = paint_ui.add_points(np.array(cage_points), shading={\"point_color\": \"red\", \"point_size\": 0.5 })\n",
    "\n",
    "def undo_clicked(b):\n",
    "    if (len(cage_points) > 0):\n",
    "        cage_points.pop()\n",
    "        global points_id\n",
    "        paint_ui.remove_object(points_id)\n",
    "        points_id = paint_ui.add_points(np.array(cage_points), shading={\"point_color\": \"red\", \"point_size\": 0.5 })\n",
    "        \n",
    "        \n",
    "def clear(b):\n",
    "    global points_id\n",
    "    if len(cage_points) > 0:\n",
    "        cage_points.clear()\n",
    "        paint_ui.remove_object(points_id)\n",
    "        points_id = -1\n",
    "    \n",
    "button.on_click(paint_clicked)\n",
    "undo_button.on_click(clear)\n",
    "\n",
    "\n",
    "# Display Buttons\n",
    "paint_ui = mp.plot(v,f,c=segments_recording)\n",
    "paint_ui.add_mesh(v_s*0.1, f_s,shading={\"flat\" : False},c=np.array([1,0,0]))\n",
    "radius = 0.01\n",
    "z = 0.0\n",
    "def sf(x,y):\n",
    "    paint_ui.update_object(oid = 1, vertices = v_s*radius + np.array([x,y, z]))\n",
    "    sf.coord = [x,y,z]\n",
    "display(iw.HBox([button, undo_button]))\n",
    "mp.interact(sf, x = iw.FloatSlider(min=-0.1, max=1.15, value=0, step = 0.05), y = iw.FloatSlider(min=-0.1, max=1.1, value=0, step = 0.05))"
   ]
  },
  {
   "cell_type": "code",
   "execution_count": 29,
   "id": "c3008f68",
   "metadata": {},
   "outputs": [
    {
     "data": {
      "text/plain": [
       "[]"
      ]
     },
     "execution_count": 29,
     "metadata": {},
     "output_type": "execute_result"
    }
   ],
   "source": [
    "cage_points"
   ]
  },
  {
   "cell_type": "code",
   "execution_count": 24,
   "id": "423a1289",
   "metadata": {},
   "outputs": [],
   "source": [
    "np.save('data/hand_cage.npy', cage_points)"
   ]
  },
  {
   "cell_type": "code",
   "execution_count": null,
   "id": "f71acce7",
   "metadata": {},
   "outputs": [],
   "source": []
  }
 ],
 "metadata": {
  "kernelspec": {
   "display_name": "Python 3 (ipykernel)",
   "language": "python",
   "name": "python3"
  },
  "language_info": {
   "codemirror_mode": {
    "name": "ipython",
    "version": 3
   },
   "file_extension": ".py",
   "mimetype": "text/x-python",
   "name": "python",
   "nbconvert_exporter": "python",
   "pygments_lexer": "ipython3",
   "version": "3.9.7"
  }
 },
 "nbformat": 4,
 "nbformat_minor": 5
}
